{
  "nbformat": 4,
  "nbformat_minor": 0,
  "metadata": {
    "colab": {
      "name": "Feature Extraction.ipynb",
      "provenance": [],
      "collapsed_sections": [],
      "mount_file_id": "1fPoXPL-0dEG9wgDMpvyZUg4yUEZ7Szg2",
      "authorship_tag": "ABX9TyOqySVHgwoZNFtmMY336Ua0",
      "include_colab_link": true
    },
    "kernelspec": {
      "name": "python3",
      "display_name": "Python 3"
    }
  },
  "cells": [
    {
      "cell_type": "markdown",
      "metadata": {
        "id": "view-in-github",
        "colab_type": "text"
      },
      "source": [
        "<a href=\"https://colab.research.google.com/github/20MAI0028/Deep-Learning-Assignments/blob/main/Feature_Extraction.ipynb\" target=\"_parent\"><img src=\"https://colab.research.google.com/assets/colab-badge.svg\" alt=\"Open In Colab\"/></a>"
      ]
    },
    {
      "cell_type": "markdown",
      "metadata": {
        "id": "MrjKM3WVeGSL"
      },
      "source": [
        "# **QUESTION 3: Image Feature Extraction**"
      ]
    },
    {
      "cell_type": "code",
      "metadata": {
        "colab": {
          "base_uri": "https://localhost:8080/",
          "height": 0
        },
        "id": "IeoaQe1L7CoZ",
        "outputId": "dd067f32-81ee-4496-e22e-f1fb2c40a797"
      },
      "source": [
        "from sklearn.linear_model import LogisticRegression \r\n",
        "from sklearn.model_selection import train_test_split \r\n",
        "from sklearn.neighbors import KNeighborsClassifier \r\n",
        "from sklearn.metrics import accuracy_score, f1_score, precision_score, recall_score, classification_report, confusion_matrix\r\n",
        "from sklearn import svm \r\n",
        "from sklearn import metrics \r\n",
        "from sklearn.tree import DecisionTreeClassifier \r\n",
        "import numpy as np\r\n",
        "import pandas as pd \r\n",
        "from pandas import Series, DataFrame\r\n",
        "from numpy import genfromtxt\r\n",
        "\r\n",
        "\r\n",
        "iris = pd.read_csv(\"/content/drive/MyDrive/Dataset/Iris.csv\")\r\n",
        "my_data = genfromtxt('/content/drive/MyDrive/Dataset/Iris.csv', delimiter=',')\r\n",
        "\r\n",
        "iris.info()\r\n",
        "train, test = train_test_split(iris, test_size=0.3) \r\n",
        "print(train.shape)\r\n",
        "print(test.shape)\r\n",
        "\r\n",
        "train_X = train[['SepalLengthCm','SepalWidthCm','PetalLengthCm','PetalWidthCm']] # taking the training data features\r\n",
        "train_y = train.Species \r\n",
        "\r\n",
        "test_X = test[['SepalLengthCm','SepalWidthCm','PetalLengthCm','PetalWidthCm']] # taking test data feature\r\n",
        "test_y = test.Species \r\n",
        "\r\n",
        "model = svm.SVC()\r\n",
        "model.fit(train_X, train_y)\r\n",
        "\r\n",
        "prediction = model.predict(test_X)\r\n",
        "print('The accuracy of the SVM is: ', str(metrics.accuracy_score(prediction, test_y)*100)+\"%\")\r\n",
        "print('Precision score of the SVM is: ', str(precision_score(test_y, prediction, average=\"macro\")*100)+\"%\")\r\n",
        "print('F1-score of the SVM is: ', str(f1_score(test_y, prediction, average=\"macro\")*100)+\"%\")\r\n",
        "print('Recall score of the SVM is: ', str(recall_score(test_y, prediction, average=\"macro\")*100)+\"%\")  "
      ],
      "execution_count": 42,
      "outputs": [
        {
          "output_type": "stream",
          "text": [
            "<class 'pandas.core.frame.DataFrame'>\n",
            "RangeIndex: 150 entries, 0 to 149\n",
            "Data columns (total 6 columns):\n",
            " #   Column         Non-Null Count  Dtype  \n",
            "---  ------         --------------  -----  \n",
            " 0   Id             150 non-null    int64  \n",
            " 1   SepalLengthCm  150 non-null    float64\n",
            " 2   SepalWidthCm   150 non-null    float64\n",
            " 3   PetalLengthCm  150 non-null    float64\n",
            " 4   PetalWidthCm   150 non-null    float64\n",
            " 5   Species        150 non-null    object \n",
            "dtypes: float64(4), int64(1), object(1)\n",
            "memory usage: 7.2+ KB\n",
            "(105, 6)\n",
            "(45, 6)\n",
            "The accuracy of the SVM is:  95.55555555555556%\n",
            "Precision score of the SVM is:  94.44444444444446%\n",
            "F1-score of the SVM is:  94.88636363636364%\n",
            "Recall score of the SVM is:  96.07843137254902%\n"
          ],
          "name": "stdout"
        }
      ]
    }
  ]
}