{
  "nbformat": 4,
  "nbformat_minor": 0,
  "metadata": {
    "colab": {
      "name": "AutoEncoder.ipynb",
      "provenance": [],
      "authorship_tag": "ABX9TyOb3gJnNYAsAIZcdjUCsYf3",
      "include_colab_link": true
    },
    "kernelspec": {
      "name": "python3",
      "display_name": "Python 3"
    },
    "language_info": {
      "name": "python"
    }
  },
  "cells": [
    {
      "cell_type": "markdown",
      "metadata": {
        "id": "view-in-github",
        "colab_type": "text"
      },
      "source": [
        "<a href=\"https://colab.research.google.com/github/20MAI0028/Deep-Learning-Assignments/blob/main/AutoEncoder.ipynb\" target=\"_parent\"><img src=\"https://colab.research.google.com/assets/colab-badge.svg\" alt=\"Open In Colab\"/></a>"
      ]
    },
    {
      "cell_type": "code",
      "metadata": {
        "id": "FZyhIhxe_TwY"
      },
      "source": [
        "import tensorflow as tf\n",
        "import numpy as np\n",
        "import matplotlib.pyplot as plt\n",
        "from tensorflow.keras import datasets, layers, models, losses, Model\n",
        "from random import randint"
      ],
      "execution_count": 82,
      "outputs": []
    },
    {
      "cell_type": "code",
      "metadata": {
        "colab": {
          "base_uri": "https://localhost:8080/"
        },
        "id": "L-SgIVqi_Wmy",
        "outputId": "1e35f6b4-8ea8-4c61-89ac-c6d437721909"
      },
      "source": [
        "(x_train, _), (x_test, _)=tf.keras.datasets.mnist.load_data()"
      ],
      "execution_count": 83,
      "outputs": [
        {
          "output_type": "stream",
          "text": [
            "Downloading data from https://storage.googleapis.com/tensorflow/tf-keras-datasets/mnist.npz\n",
            "11493376/11490434 [==============================] - 0s 0us/step\n"
          ],
          "name": "stdout"
        }
      ]
    },
    {
      "cell_type": "code",
      "metadata": {
        "colab": {
          "base_uri": "https://localhost:8080/"
        },
        "id": "eQlwzgV8_g01",
        "outputId": "37f880ee-e80f-4267-d63f-382d36e18a6a"
      },
      "source": [
        "hidden_size = 100\n",
        "latent_size = 20\n",
        "input_layer = layers.Input(shape = x_train.shape[1:])\n",
        "flattened = layers.Flatten()(input_layer)\n",
        "hidden = layers.Dense(hidden_size, activation = 'relu')(flattened)\n",
        "latent = layers.Dense(latent_size, activation = 'relu')(hidden)\n",
        "encoder = Model(inputs = input_layer, outputs = latent, name = 'encoder')\n",
        "encoder.summary()"
      ],
      "execution_count": 84,
      "outputs": [
        {
          "output_type": "stream",
          "text": [
            "Model: \"encoder\"\n",
            "_________________________________________________________________\n",
            "Layer (type)                 Output Shape              Param #   \n",
            "=================================================================\n",
            "input_1 (InputLayer)         [(None, 28, 28)]          0         \n",
            "_________________________________________________________________\n",
            "flatten (Flatten)            (None, 784)               0         \n",
            "_________________________________________________________________\n",
            "dense (Dense)                (None, 100)               78500     \n",
            "_________________________________________________________________\n",
            "dense_1 (Dense)              (None, 20)                2020      \n",
            "=================================================================\n",
            "Total params: 80,520\n",
            "Trainable params: 80,520\n",
            "Non-trainable params: 0\n",
            "_________________________________________________________________\n"
          ],
          "name": "stdout"
        }
      ]
    },
    {
      "cell_type": "code",
      "metadata": {
        "colab": {
          "base_uri": "https://localhost:8080/"
        },
        "id": "N7_Iybes_ksn",
        "outputId": "c16c3983-8193-49f5-e63c-0d85d7bdd2c5"
      },
      "source": [
        "input_layer_decoder = layers.Input(shape = encoder.output.shape)\n",
        "upsampled = layers.Dense(hidden_size, activation = 'relu')(input_layer_decoder)\n",
        "upsampled = layers.Dense(encoder.layers[1].output_shape[-1], activation = 'relu')(upsampled)\n",
        "constructed = layers.Reshape(x_train.shape[1:])(upsampled)\n",
        "decoder = Model(inputs = input_layer_decoder, outputs = constructed, name= 'decoder')\n",
        "decoder.summary()"
      ],
      "execution_count": 85,
      "outputs": [
        {
          "output_type": "stream",
          "text": [
            "Model: \"decoder\"\n",
            "_________________________________________________________________\n",
            "Layer (type)                 Output Shape              Param #   \n",
            "=================================================================\n",
            "input_2 (InputLayer)         [(None, None, 20)]        0         \n",
            "_________________________________________________________________\n",
            "dense_2 (Dense)              (None, None, 100)         2100      \n",
            "_________________________________________________________________\n",
            "dense_3 (Dense)              (None, None, 784)         79184     \n",
            "_________________________________________________________________\n",
            "reshape (Reshape)            (None, 28, 28)            0         \n",
            "=================================================================\n",
            "Total params: 81,284\n",
            "Trainable params: 81,284\n",
            "Non-trainable params: 0\n",
            "_________________________________________________________________\n"
          ],
          "name": "stdout"
        }
      ]
    },
    {
      "cell_type": "code",
      "metadata": {
        "colab": {
          "base_uri": "https://localhost:8080/"
        },
        "id": "c5rvky4o_oiY",
        "outputId": "a9302785-689a-4d71-c6ca-807c0e56c6fb"
      },
      "source": [
        "autoencoder = Model(inputs = encoder.input, outputs = decoder(encoder.output))\n",
        "autoencoder.summary()"
      ],
      "execution_count": 86,
      "outputs": [
        {
          "output_type": "stream",
          "text": [
            "WARNING:tensorflow:Model was constructed with shape (None, None, 20) for input KerasTensor(type_spec=TensorSpec(shape=(None, None, 20), dtype=tf.float32, name='input_2'), name='input_2', description=\"created by layer 'input_2'\"), but it was called on an input with incompatible shape (None, 20).\n",
            "Model: \"model\"\n",
            "_________________________________________________________________\n",
            "Layer (type)                 Output Shape              Param #   \n",
            "=================================================================\n",
            "input_1 (InputLayer)         [(None, 28, 28)]          0         \n",
            "_________________________________________________________________\n",
            "flatten (Flatten)            (None, 784)               0         \n",
            "_________________________________________________________________\n",
            "dense (Dense)                (None, 100)               78500     \n",
            "_________________________________________________________________\n",
            "dense_1 (Dense)              (None, 20)                2020      \n",
            "_________________________________________________________________\n",
            "decoder (Functional)         (None, 28, 28)            81284     \n",
            "=================================================================\n",
            "Total params: 161,804\n",
            "Trainable params: 161,804\n",
            "Non-trainable params: 0\n",
            "_________________________________________________________________\n"
          ],
          "name": "stdout"
        }
      ]
    },
    {
      "cell_type": "code",
      "metadata": {
        "colab": {
          "base_uri": "https://localhost:8080/"
        },
        "id": "S2XNe6Qz_sqd",
        "outputId": "28d4475e-8970-4423-c9f9-a7cc4c525003"
      },
      "source": [
        "autoencoder.compile(optimizer='adam', loss=losses.MeanSquaredError())\n",
        "history = autoencoder.fit(x_train, x_train, epochs=10, batch_size=64, validation_data = (x_test, x_test))"
      ],
      "execution_count": 94,
      "outputs": [
        {
          "output_type": "stream",
          "text": [
            "Epoch 1/10\n",
            "WARNING:tensorflow:Model was constructed with shape (None, None, 20) for input KerasTensor(type_spec=TensorSpec(shape=(None, None, 20), dtype=tf.float32, name='input_2'), name='input_2', description=\"created by layer 'input_2'\"), but it was called on an input with incompatible shape (None, 20).\n",
            "WARNING:tensorflow:Model was constructed with shape (None, None, 20) for input KerasTensor(type_spec=TensorSpec(shape=(None, None, 20), dtype=tf.float32, name='input_2'), name='input_2', description=\"created by layer 'input_2'\"), but it was called on an input with incompatible shape (None, 20).\n",
            "931/938 [============================>.] - ETA: 0s - loss: 1316.7421WARNING:tensorflow:Model was constructed with shape (None, None, 20) for input KerasTensor(type_spec=TensorSpec(shape=(None, None, 20), dtype=tf.float32, name='input_2'), name='input_2', description=\"created by layer 'input_2'\"), but it was called on an input with incompatible shape (None, 20).\n",
            "938/938 [==============================] - 4s 4ms/step - loss: 1316.7280 - val_loss: 1301.9200\n",
            "Epoch 2/10\n",
            "938/938 [==============================] - 3s 4ms/step - loss: 1305.5592 - val_loss: 1302.5616\n",
            "Epoch 3/10\n",
            "938/938 [==============================] - 4s 4ms/step - loss: 1301.2199 - val_loss: 1286.8054\n",
            "Epoch 4/10\n",
            "938/938 [==============================] - 3s 4ms/step - loss: 1299.2139 - val_loss: 1285.7972\n",
            "Epoch 5/10\n",
            "938/938 [==============================] - 3s 4ms/step - loss: 1286.4397 - val_loss: 1281.9318\n",
            "Epoch 6/10\n",
            "938/938 [==============================] - 3s 4ms/step - loss: 1284.3279 - val_loss: 1278.0873\n",
            "Epoch 7/10\n",
            "938/938 [==============================] - 3s 4ms/step - loss: 1280.5877 - val_loss: 1268.1085\n",
            "Epoch 8/10\n",
            "938/938 [==============================] - 3s 4ms/step - loss: 1278.1103 - val_loss: 1275.0898\n",
            "Epoch 9/10\n",
            "938/938 [==============================] - 3s 4ms/step - loss: 1273.9159 - val_loss: 1266.5256\n",
            "Epoch 10/10\n",
            "938/938 [==============================] - 3s 4ms/step - loss: 1271.3814 - val_loss: 1259.0573\n"
          ],
          "name": "stdout"
        }
      ]
    },
    {
      "cell_type": "code",
      "metadata": {
        "colab": {
          "base_uri": "https://localhost:8080/",
          "height": 367
        },
        "id": "RO__6pZPAEKH",
        "outputId": "e0c884b3-99ae-41a8-8852-7eeccb0be2f1"
      },
      "source": [
        "fig, axs = plt.subplots(figsize=(5,5))\n",
        "axs.plot(history.history['loss'])\n",
        "axs.plot(history.history['val_loss'])\n",
        "axs.title.set_text('Training Loss vs Validation Loss')\n",
        "axs.set_xlabel('Epochs')\n",
        "axs.set_ylabel('Loss')\n",
        "axs.legend(['Train','Val'])"
      ],
      "execution_count": 95,
      "outputs": [
        {
          "output_type": "execute_result",
          "data": {
            "text/plain": [
              "<matplotlib.legend.Legend at 0x7f6386922510>"
            ]
          },
          "metadata": {
            "tags": []
          },
          "execution_count": 95
        },
        {
          "output_type": "display_data",
          "data": {
            "image/png": "[encoded data removed]",
            "text/plain": [
              "<Figure size 360x360 with 1 Axes>"
            ]
          },
          "metadata": {
            "tags": [],
            "needs_background": "light"
          }
        }
      ]
    },
    {
      "cell_type": "code",
      "metadata": {
        "colab": {
          "base_uri": "https://localhost:8080/",
          "height": 593
        },
        "id": "MwRxPeeqAH06",
        "outputId": "c7d875f8-d67e-442e-9e84-94aa4dc03734"
      },
      "source": [
        "fig, axs = plt.subplots(3,2,figsize=(10,10))\n",
        "for i in range(3):\n",
        "  sample1 = x_train[randint(0,x_train.shape[0])]\n",
        "  axs[i][0].imshow(sample1, cmap = 'gray')\n",
        "  axs[i][1].imshow(autoencoder(np.expand_dims(sample1,0))[0], cmap = 'gray')"
      ],
      "execution_count": 96,
      "outputs": [
        {
          "output_type": "display_data",
          "data": {
            "image/png": "[encoded data removed]",
            "text/plain": [
              "<Figure size 720x720 with 6 Axes>"
            ]
          },
          "metadata": {
            "tags": [],
            "needs_background": "light"
          }
        }
      ]
    }
  ]
}