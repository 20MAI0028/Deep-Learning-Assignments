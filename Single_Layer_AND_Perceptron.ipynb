{
  "nbformat": 4,
  "nbformat_minor": 0,
  "metadata": {
    "colab": {
      "name": "Single Layer AND Perceptron.ipynb",
      "provenance": [],
      "collapsed_sections": []
    },
    "kernelspec": {
      "name": "python3",
      "display_name": "Python 3"
    }
  },
  "cells": [
    {
      "cell_type": "code",
      "metadata": {
        "colab": {
          "base_uri": "https://localhost:8080/",
          "height": 0
        },
        "id": "DvU1VU1iZS-c",
        "outputId": "2d9f459b-13ea-4822-d2be-a38824f7ccc4"
      },
      "source": [
        "import numpy as np\r\n",
        "\r\n",
        "def __init__(self, input_size, lr=1, epochs=10):\r\n",
        "    self.W = np.zeros(input_size+1)\r\n",
        "    self.epochs = epochs\r\n",
        "    self.lr = lr\r\n",
        "\r\n",
        "def fit(self, X, d):\r\n",
        "  for _ in range(self.epochs):\r\n",
        "    for i in range(d.shape[0]):\r\n",
        "        y = self.predict(X[i])\r\n",
        "        e = d[i] - y\r\n",
        "        self.W = self.W + self.lr * e * np.insert(X[i], 0, 1)\r\n",
        "        \r\n",
        "class Perceptron(object):\r\n",
        "    \r\n",
        "    def __init__(self, input_size, lr=1, epochs=1):\r\n",
        "        self.W = np.zeros(input_size+1)\r\n",
        "        self.epochs = epochs\r\n",
        "        self.lr = lr\r\n",
        "    \r\n",
        "    def activation_fn(self, x):\r\n",
        "        return 1 if x >= 0 else 0\r\n",
        " \r\n",
        "    def predict(self, x):\r\n",
        "        z = self.W.T.dot(x)\r\n",
        "        a = self.activation_fn(z)\r\n",
        "        return a\r\n",
        " \r\n",
        "    def fit(self, X, d):\r\n",
        "        for _ in range(self.epochs):\r\n",
        "            for i in range(d.shape[0]):\r\n",
        "                x = np.insert(X[i], 0, 1)\r\n",
        "                y = self.predict(x)\r\n",
        "                e = d[i] - y\r\n",
        "                self.W = self.W + self.lr * e * x\r\n",
        "\r\n",
        "if __name__ == '__main__':\r\n",
        "    X = np.array([\r\n",
        "        [1, 2, 3],\r\n",
        "        [4, 5, 6],\r\n",
        "        [7, 8, 9]\r\n",
        "    ])\r\n",
        "    d = np.array([0, 1, 1])\r\n",
        " \r\n",
        "    perceptron = Perceptron(input_size=3)\r\n",
        "    perceptron.fit(X, d)\r\n",
        "    print(\"Bias is\",perceptron.W[0])\r\n",
        "    for i in range(3):\r\n",
        "      print(\"Weight of x\"+str((i+1)),\"is\",perceptron.W[i+1])"
      ],
      "execution_count": 10,
      "outputs": [
        {
          "output_type": "stream",
          "text": [
            "Bias is 0.0\n",
            "Weight of x1 is 3.0\n",
            "Weight of x2 is 3.0\n",
            "Weight of x3 is 3.0\n"
          ],
          "name": "stdout"
        }
      ]
    }
  ]
}